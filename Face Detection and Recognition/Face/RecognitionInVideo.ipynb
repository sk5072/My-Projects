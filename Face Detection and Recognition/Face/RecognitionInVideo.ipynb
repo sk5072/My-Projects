{
 "cells": [
  {
   "cell_type": "code",
   "execution_count": 4,
   "metadata": {},
   "outputs": [],
   "source": [
    "import import_ipynb\n",
    "import cv2\n",
    "import os\n",
    "import numpy as np\n",
    "import faceRecognition as fr"
   ]
  },
  {
   "cell_type": "code",
   "execution_count": 5,
   "metadata": {},
   "outputs": [],
   "source": [
    "face_recongnizer=cv2.face.LBPHFaceRecognizer_create()\n",
    "face_recongnizer.read('TrainedImage.yml')"
   ]
  },
  {
   "cell_type": "code",
   "execution_count": 6,
   "metadata": {},
   "outputs": [],
   "source": [
    "name={0:\"Sunil\",1:\"Bhavana\"}"
   ]
  },
  {
   "cell_type": "code",
   "execution_count": 7,
   "metadata": {},
   "outputs": [],
   "source": [
    "cam = cv2.VideoCapture(\"VID_20181022_012431095.MP4\")\n",
    "while True:\n",
    "    ret, test_img = cam.read()\n",
    "    face_detected,gray_img=fr.faceDetection(test_img)    \n",
    "    if ret == False:\n",
    "        continue\n",
    "    for face in face_detected:\n",
    "        x, y ,w, h = face\n",
    "        img  = cv2.rectangle(test_img, (x, y), (x+w, y+h), (255,0,0),2)\n",
    "    resized_img=cv2.resize(test_img,(1000,700))\n",
    "    cv2.imshow(\"face detected\",resized_img)\n",
    "    cv2.waitKey(0)\n",
    "    for face in face_detected:\n",
    "        (x,y,w,h)=face\n",
    "        roi_gray=gray_img[y:y+h,x:x+h]\n",
    "        label,confidence=face_recongnizer.predict(roi_gray)\n",
    "        print(\"confidence:\",confidence)\n",
    "        print(\"label:\",label)\n",
    "        fr.draw_rect(test_img,face)\n",
    "#         if(confidence>30):\n",
    "#             continue\n",
    "        predicted_name=name[label]\n",
    "        fr.AttackText(test_img,predicted_name,x,y)\n",
    "    resized_img=cv2.resize(test_img,(1000,700))\n",
    "    cv2.imshow(\"face detected\",resized_img)\n",
    "    key_pressed = cv2.waitKey(1)\n",
    "    if(key_pressed==ord('q')):#to quit the camera\n",
    "        break\n",
    "cam.release()\n",
    "cv2.destroyAllWindows()"
   ]
  },
  {
   "cell_type": "code",
   "execution_count": null,
   "metadata": {},
   "outputs": [],
   "source": []
  }
 ],
 "metadata": {
  "kernelspec": {
   "display_name": "Python 3",
   "language": "python",
   "name": "python3"
  },
  "language_info": {
   "codemirror_mode": {
    "name": "ipython",
    "version": 3
   },
   "file_extension": ".py",
   "mimetype": "text/x-python",
   "name": "python",
   "nbconvert_exporter": "python",
   "pygments_lexer": "ipython3",
   "version": "3.7.6"
  }
 },
 "nbformat": 4,
 "nbformat_minor": 4
}
